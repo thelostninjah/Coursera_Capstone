{
  "nbformat": 4,
  "nbformat_minor": 0,
  "metadata": {
    "colab": {
      "name": "Coursera Project Notebook",
      "provenance": []
    },
    "kernelspec": {
      "name": "python3",
      "display_name": "Python 3"
    }
  },
  "cells": [
    {
      "cell_type": "markdown",
      "metadata": {
        "id": "uWXxBe8omVQs",
        "colab_type": "text"
      },
      "source": [
        "# __Coursera Project Notebook__\n",
        "\n",
        "*This notebook will be primarily used for the Peer-graded Assignment: Capstone Project Notebook*\n",
        "<br/><br/>\n",
        "\n",
        "___"
      ]
    },
    {
      "cell_type": "code",
      "metadata": {
        "id": "BkcWYHqjl2mz",
        "colab_type": "code",
        "colab": {}
      },
      "source": [
        "import pandas as pd\n",
        "import numpy as np"
      ],
      "execution_count": 0,
      "outputs": []
    },
    {
      "cell_type": "code",
      "metadata": {
        "id": "CK8FuRTGnN6K",
        "colab_type": "code",
        "colab": {
          "base_uri": "https://localhost:8080/",
          "height": 35
        },
        "outputId": "c6d5b536-fb56-47c9-df6c-492f0f71f2de"
      },
      "source": [
        "print(\"Hello Capstone Project Course\")"
      ],
      "execution_count": 2,
      "outputs": [
        {
          "output_type": "stream",
          "text": [
            "Hello Capstone Project Course\n"
          ],
          "name": "stdout"
        }
      ]
    }
  ]
}