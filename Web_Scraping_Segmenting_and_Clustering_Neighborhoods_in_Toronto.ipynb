{
  "nbformat": 4,
  "nbformat_minor": 0,
  "metadata": {
    "colab": {
      "name": "Web_Scraping_Segmenting and Clustering Neighborhoods in Toronto",
      "provenance": [],
      "collapsed_sections": []
    },
    "kernelspec": {
      "name": "python3",
      "display_name": "Python 3"
    }
  },
  "cells": [
    {
      "cell_type": "markdown",
      "metadata": {
        "id": "SrKP4sZjCT9a",
        "colab_type": "text"
      },
      "source": [
        "# __Segmenting and Clustering Neighborhoods in Toronto__\n",
        "\n",
        "<br/>"
      ]
    },
    {
      "cell_type": "markdown",
      "metadata": {
        "id": "1NdA-CVNDCWg",
        "colab_type": "text"
      },
      "source": [
        "## Web Scraping\n",
        "\n",
        "<br/>"
      ]
    },
    {
      "cell_type": "markdown",
      "metadata": {
        "id": "JheWbGMYDNgK",
        "colab_type": "text"
      },
      "source": [
        "For this assignment, you will be required to explore and cluster the neighborhoods in Toronto.\n",
        "\n",
        "<br/>\n",
        "\n",
        "1. Start by creating a new Notebook for this assignment.\n",
        "\n",
        "<br/>\n",
        "\n",
        "2. Use the Notebook to build the code to scrape the following Wikipedia page, https://en.wikipedia.org/wiki/List_of_postal_codes_of_Canada:_M, in order to obtain the data that is in the table of postal codes and to transform the data into a pandas dataframe like the one shown below:\n",
        "\n",
        "<br/>\n",
        "\n",
        "![alt text](https://d3c33hcgiwev3.cloudfront.net/imageAssetProxy.v1/7JXaz3NNEeiMwApe4i-fLg_40e690ae0e927abda2d4bde7d94ed133_Screen-Shot-2018-06-18-at-7.17.57-PM.png?expiry=1581984000000&hmac=aqqnfeTZdyKUZ-RkUdcZZEunf_3-V_IR0cy_wrB4KTw)\n",
        "\n",
        "<br/>"
      ]
    },
    {
      "cell_type": "markdown",
      "metadata": {
        "id": "v486owXOD57A",
        "colab_type": "text"
      },
      "source": [
        "3. To create the above dataframe:\n",
        "\n",
        "<br/>\n",
        "\n",
        "- The dataframe will consist of three columns: PostalCode, Borough, and Neighborhood\n",
        "- Only process the cells that have an assigned borough. Ignore cells with a borough that is __Not assigned.__\n",
        "- More than one neighborhood can exist in one postal code area. For example, in the table on the Wikipedia page, you will notice that __M5A__ is listed twice and has two neighborhoods: __Harbourfront__ and __Regent Park__. These two rows will be combined into one row with the neighborhoods separated with a comma as shown in __row 11__ in the above table.\n",
        "- If a cell has a borough but a __Not assigned neighborhood__, then the neighborhood will be the same as the borough. So for the __9th__ cell in the table on the Wikipedia page, the value of the Borough and the Neighborhood columns will be __Queen's Park.__\n",
        "- Clean your Notebook and add Markdown cells to explain your work and any assumptions you are making.\n",
        "- In the last cell of your notebook, use the __.shape__ method to print the number of rows of your dataframe.\n",
        "\n",
        "<br/>\n",
        "\n",
        "4. Submit a link to your Notebook on your Github repository. __(10 marks)__\n",
        "\n",
        "<br/>\n",
        "\n",
        "__Note__: *There are different website scraping libraries and packages in Python. For scraping the above table, you can simply use pandas to read the table into a pandas dataframe.*\n",
        "\n",
        "*Another way, which would help to learn for more complicated cases of web scraping is using the BeautifulSoup package. Here is the package's main documentation page: http://beautiful-soup-4.readthedocs.io/en/latest/*\n",
        "\n",
        "*The package is so popular that there is a plethora of tutorials and examples on how to use it. Here is a very good Youtube video on how to use the BeautifulSoup package: https://www.youtube.com/watch?v=ng2o98k983k*\n",
        "\n",
        "*Use pandas, or the BeautifulSoup package, or any other way you are comfortable with to transform the data in the table on the Wikipedia page into the above pandas dataframe.*\n",
        "\n",
        "<br/>\n",
        "<br/>\n",
        "\n",
        "___\n",
        "\n",
        "<br/>"
      ]
    },
    {
      "cell_type": "markdown",
      "metadata": {
        "id": "fBGm2_70E9Xv",
        "colab_type": "text"
      },
      "source": [
        "## Install Newest Version of Pandas for new functionalities\n",
        "\n",
        "<br/>"
      ]
    },
    {
      "cell_type": "code",
      "metadata": {
        "id": "ogaYjrKWBiYK",
        "colab_type": "code",
        "colab": {
          "base_uri": "https://localhost:8080/",
          "height": 104
        },
        "outputId": "a9ff3e08-8f1e-4ded-f67c-84554c02e5aa"
      },
      "source": [
        "!pip3 install pandas==1.0.1."
      ],
      "execution_count": 1,
      "outputs": [
        {
          "output_type": "stream",
          "text": [
            "Requirement already satisfied: pandas==1.0.1. in /usr/local/lib/python3.6/dist-packages (1.0.1)\n",
            "Requirement already satisfied: pytz>=2017.2 in /usr/local/lib/python3.6/dist-packages (from pandas==1.0.1.) (2018.9)\n",
            "Requirement already satisfied: python-dateutil>=2.6.1 in /usr/local/lib/python3.6/dist-packages (from pandas==1.0.1.) (2.6.1)\n",
            "Requirement already satisfied: numpy>=1.13.3 in /usr/local/lib/python3.6/dist-packages (from pandas==1.0.1.) (1.17.5)\n",
            "Requirement already satisfied: six>=1.5 in /usr/local/lib/python3.6/dist-packages (from python-dateutil>=2.6.1->pandas==1.0.1.) (1.12.0)\n"
          ],
          "name": "stdout"
        }
      ]
    },
    {
      "cell_type": "markdown",
      "metadata": {
        "id": "apNUP9ERFDRa",
        "colab_type": "text"
      },
      "source": [
        "<br/>\n",
        "\n",
        "## Import Necessary Packages for Web Scraping\n",
        "\n",
        "<br/>"
      ]
    },
    {
      "cell_type": "code",
      "metadata": {
        "id": "8rcCzj4rdH3U",
        "colab_type": "code",
        "colab": {
          "base_uri": "https://localhost:8080/",
          "height": 34
        },
        "outputId": "6ef5ac2d-52e6-4cba-f46d-c0686fb6c68f"
      },
      "source": [
        "from bs4 import BeautifulSoup\n",
        "import requests\n",
        "import pandas as pd\n",
        "print(\"Pandas Version: \" + pd.__version__)"
      ],
      "execution_count": 2,
      "outputs": [
        {
          "output_type": "stream",
          "text": [
            "Pandas Version: 1.0.1\n"
          ],
          "name": "stdout"
        }
      ]
    },
    {
      "cell_type": "markdown",
      "metadata": {
        "id": "ohCjBUXjFOWQ",
        "colab_type": "text"
      },
      "source": [
        "<br/>\n",
        "\n",
        "## Web Scrap for the List of Postal Codes of Canada using __Beautiful Soup__ with *html.parser*\n",
        "\n",
        "<br/>"
      ]
    },
    {
      "cell_type": "code",
      "metadata": {
        "id": "CoXKJyOQd5Hx",
        "colab_type": "code",
        "colab": {}
      },
      "source": [
        "url = \"http://en.wikipedia.org/wiki/List_of_postal_codes_of_Canada:_M\"\n",
        "\n",
        "postal_codes_canada  = requests.get(url)\n",
        "\n",
        "soup = BeautifulSoup(postal_codes_canada.text, 'html.parser')\n",
        "\n",
        "table = soup.find('table', {'class':'wikitable sortable'}).tbody\n"
      ],
      "execution_count": 0,
      "outputs": []
    },
    {
      "cell_type": "markdown",
      "metadata": {
        "id": "bhWd0gcnFdaq",
        "colab_type": "text"
      },
      "source": [
        "<br/>\n",
        "\n",
        "## Find Columns Headers of Table\n",
        "\n",
        "<br/>"
      ]
    },
    {
      "cell_type": "code",
      "metadata": {
        "id": "y3Hsu4iQfHlE",
        "colab_type": "code",
        "outputId": "3b324dcb-a6a6-4b96-bbb9-e3e37ac98f51",
        "colab": {
          "base_uri": "https://localhost:8080/",
          "height": 34
        }
      },
      "source": [
        "column_headers = table.find_all('th')\n",
        "column_headers = [c.text.replace('\\n', '') for c in column_headers]\n",
        "print(column_headers)"
      ],
      "execution_count": 4,
      "outputs": [
        {
          "output_type": "stream",
          "text": [
            "['Postcode', 'Borough', 'Neighbourhood']\n"
          ],
          "name": "stdout"
        }
      ]
    },
    {
      "cell_type": "markdown",
      "metadata": {
        "id": "Uf4Vg7p-Fpyi",
        "colab_type": "text"
      },
      "source": [
        "<br/>\n",
        "\n",
        "## Set Columns Headers of Table to a new DataFrame: __df_postal_codes__. Then, print the column headers.\n",
        "\n",
        "<br/>"
      ]
    },
    {
      "cell_type": "code",
      "metadata": {
        "id": "Y5bMSVpcj9-i",
        "colab_type": "code",
        "outputId": "b48a2bd0-0bf6-4cb0-d2f6-c34e4b8c4ca6",
        "colab": {
          "base_uri": "https://localhost:8080/",
          "height": 49
        }
      },
      "source": [
        "df_postal_codes = pd.DataFrame(columns = column_headers)\n",
        "df_postal_codes.head()"
      ],
      "execution_count": 5,
      "outputs": [
        {
          "output_type": "execute_result",
          "data": {
            "text/html": [
              "<div>\n",
              "<style scoped>\n",
              "    .dataframe tbody tr th:only-of-type {\n",
              "        vertical-align: middle;\n",
              "    }\n",
              "\n",
              "    .dataframe tbody tr th {\n",
              "        vertical-align: top;\n",
              "    }\n",
              "\n",
              "    .dataframe thead th {\n",
              "        text-align: right;\n",
              "    }\n",
              "</style>\n",
              "<table border=\"1\" class=\"dataframe\">\n",
              "  <thead>\n",
              "    <tr style=\"text-align: right;\">\n",
              "      <th></th>\n",
              "      <th>Postcode</th>\n",
              "      <th>Borough</th>\n",
              "      <th>Neighbourhood</th>\n",
              "    </tr>\n",
              "  </thead>\n",
              "  <tbody>\n",
              "  </tbody>\n",
              "</table>\n",
              "</div>"
            ],
            "text/plain": [
              "Empty DataFrame\n",
              "Columns: [Postcode, Borough, Neighbourhood]\n",
              "Index: []"
            ]
          },
          "metadata": {
            "tags": []
          },
          "execution_count": 5
        }
      ]
    },
    {
      "cell_type": "markdown",
      "metadata": {
        "id": "ogEyoSRZF8dV",
        "colab_type": "text"
      },
      "source": [
        "<br/>\n",
        "\n",
        "## Scrape for the column data in the table. Append the scraped data into the DataFrame and organize the DataFrame based on the directions in __STEP 3__.\n",
        "\n",
        "<br/>"
      ]
    },
    {
      "cell_type": "code",
      "metadata": {
        "id": "60awx9B8lY8P",
        "colab_type": "code",
        "colab": {}
      },
      "source": [
        "  num_rows = table.find_all('tr')\n",
        "  for i in range(1,len(num_rows)):\n",
        "    rows = num_rows[i].find_all('td')\n",
        "    row = [rows[0].text, rows[1].text, rows[2].text.replace('\\n','')] \n",
        "    if rows[2].text.replace('\\n','') == 'Not assigned' and rows[1].text != 'Not assigned':\n",
        "      row = [rows[0].text, rows[1].text, rows[1].text] \n",
        "      df_postal_codes = df_postal_codes.append(pd.Series(row, index = column_headers), ignore_index = True)\n",
        "    elif rows[1].text != 'Not Assigned' and rows[2].text.replace('\\n','') != 'Not assigned':\n",
        "      row = [rows[0].text, rows[1].text, rows[2].text.replace('\\n','')]\n",
        "      df_postal_codes = df_postal_codes.append(pd.Series(row, index = column_headers), ignore_index = True)\n",
        "      if i != 1 and row[0] == row_prev[0]:\n",
        "        row = [rows[0].text, rows[1].text, rows[2].text.replace('\\n','') + \", \" + row_prev[2]]\n",
        "        df_postal_codes = df_postal_codes.append(pd.Series(row, index = column_headers), ignore_index = True)\n",
        "    row_prev = row"
      ],
      "execution_count": 0,
      "outputs": []
    },
    {
      "cell_type": "markdown",
      "metadata": {
        "id": "Q66q_j04GRS-",
        "colab_type": "text"
      },
      "source": [
        "<br/>\n",
        "\n",
        "## Remove Duplicate Rows with the same __Postcode__ based on directions in __STEP 3__.\n",
        "\n",
        "<br/>"
      ]
    },
    {
      "cell_type": "code",
      "metadata": {
        "id": "qKIS9OBH0Q_W",
        "colab_type": "code",
        "colab": {}
      },
      "source": [
        "df_postal_codes.drop_duplicates(subset = ['Postcode'], keep = 'last', inplace = True, ignore_index = True)"
      ],
      "execution_count": 0,
      "outputs": []
    },
    {
      "cell_type": "markdown",
      "metadata": {
        "id": "djkntnieGgD4",
        "colab_type": "text"
      },
      "source": [
        "<br/>\n",
        "\n",
        "## Print First 20 Rows in the DataFrame, __df_postal_codes__.\n",
        "\n",
        "<br/>"
      ]
    },
    {
      "cell_type": "code",
      "metadata": {
        "id": "wqS9CMVix2hl",
        "colab_type": "code",
        "colab": {
          "base_uri": "https://localhost:8080/",
          "height": 662
        },
        "outputId": "ee750970-f613-4d64-edd7-5b053a799216"
      },
      "source": [
        "df_postal_codes.head(20)"
      ],
      "execution_count": 10,
      "outputs": [
        {
          "output_type": "execute_result",
          "data": {
            "text/html": [
              "<div>\n",
              "<style scoped>\n",
              "    .dataframe tbody tr th:only-of-type {\n",
              "        vertical-align: middle;\n",
              "    }\n",
              "\n",
              "    .dataframe tbody tr th {\n",
              "        vertical-align: top;\n",
              "    }\n",
              "\n",
              "    .dataframe thead th {\n",
              "        text-align: right;\n",
              "    }\n",
              "</style>\n",
              "<table border=\"1\" class=\"dataframe\">\n",
              "  <thead>\n",
              "    <tr style=\"text-align: right;\">\n",
              "      <th></th>\n",
              "      <th>Postcode</th>\n",
              "      <th>Borough</th>\n",
              "      <th>Neighbourhood</th>\n",
              "    </tr>\n",
              "  </thead>\n",
              "  <tbody>\n",
              "    <tr>\n",
              "      <th>0</th>\n",
              "      <td>M3A</td>\n",
              "      <td>North York</td>\n",
              "      <td>Parkwoods</td>\n",
              "    </tr>\n",
              "    <tr>\n",
              "      <th>1</th>\n",
              "      <td>M4A</td>\n",
              "      <td>North York</td>\n",
              "      <td>Victoria Village</td>\n",
              "    </tr>\n",
              "    <tr>\n",
              "      <th>2</th>\n",
              "      <td>M5A</td>\n",
              "      <td>Downtown Toronto</td>\n",
              "      <td>Harbourfront</td>\n",
              "    </tr>\n",
              "    <tr>\n",
              "      <th>3</th>\n",
              "      <td>M6A</td>\n",
              "      <td>North York</td>\n",
              "      <td>Lawrence Manor, Lawrence Heights</td>\n",
              "    </tr>\n",
              "    <tr>\n",
              "      <th>4</th>\n",
              "      <td>M7A</td>\n",
              "      <td>Downtown Toronto</td>\n",
              "      <td>Queen's Park</td>\n",
              "    </tr>\n",
              "    <tr>\n",
              "      <th>5</th>\n",
              "      <td>M9A</td>\n",
              "      <td>Queen's Park</td>\n",
              "      <td>Queen's Park</td>\n",
              "    </tr>\n",
              "    <tr>\n",
              "      <th>6</th>\n",
              "      <td>M1B</td>\n",
              "      <td>Scarborough</td>\n",
              "      <td>Malvern, Rouge</td>\n",
              "    </tr>\n",
              "    <tr>\n",
              "      <th>7</th>\n",
              "      <td>M3B</td>\n",
              "      <td>North York</td>\n",
              "      <td>Don Mills North</td>\n",
              "    </tr>\n",
              "    <tr>\n",
              "      <th>8</th>\n",
              "      <td>M4B</td>\n",
              "      <td>East York</td>\n",
              "      <td>Parkview Hill, Woodbine Gardens</td>\n",
              "    </tr>\n",
              "    <tr>\n",
              "      <th>9</th>\n",
              "      <td>M5B</td>\n",
              "      <td>Downtown Toronto</td>\n",
              "      <td>Garden District, Ryerson</td>\n",
              "    </tr>\n",
              "    <tr>\n",
              "      <th>10</th>\n",
              "      <td>M6B</td>\n",
              "      <td>North York</td>\n",
              "      <td>Glencairn</td>\n",
              "    </tr>\n",
              "    <tr>\n",
              "      <th>11</th>\n",
              "      <td>M9B</td>\n",
              "      <td>Etobicoke</td>\n",
              "      <td>West Deane Park, Princess Gardens, Martin Grov...</td>\n",
              "    </tr>\n",
              "    <tr>\n",
              "      <th>12</th>\n",
              "      <td>M1C</td>\n",
              "      <td>Scarborough</td>\n",
              "      <td>Port Union, Rouge Hill, Highland Creek</td>\n",
              "    </tr>\n",
              "    <tr>\n",
              "      <th>13</th>\n",
              "      <td>M3C</td>\n",
              "      <td>North York</td>\n",
              "      <td>Don Mills South, Flemingdon Park</td>\n",
              "    </tr>\n",
              "    <tr>\n",
              "      <th>14</th>\n",
              "      <td>M4C</td>\n",
              "      <td>East York</td>\n",
              "      <td>Woodbine Heights</td>\n",
              "    </tr>\n",
              "    <tr>\n",
              "      <th>15</th>\n",
              "      <td>M5C</td>\n",
              "      <td>Downtown Toronto</td>\n",
              "      <td>St. James Town</td>\n",
              "    </tr>\n",
              "    <tr>\n",
              "      <th>16</th>\n",
              "      <td>M6C</td>\n",
              "      <td>York</td>\n",
              "      <td>Humewood-Cedarvale</td>\n",
              "    </tr>\n",
              "    <tr>\n",
              "      <th>17</th>\n",
              "      <td>M9C</td>\n",
              "      <td>Etobicoke</td>\n",
              "      <td>Old Burnhamthorpe, Markland Wood, Eringate, Bl...</td>\n",
              "    </tr>\n",
              "    <tr>\n",
              "      <th>18</th>\n",
              "      <td>M1E</td>\n",
              "      <td>Scarborough</td>\n",
              "      <td>West Hill, Morningside, Guildwood</td>\n",
              "    </tr>\n",
              "    <tr>\n",
              "      <th>19</th>\n",
              "      <td>M4E</td>\n",
              "      <td>East Toronto</td>\n",
              "      <td>The Beaches</td>\n",
              "    </tr>\n",
              "  </tbody>\n",
              "</table>\n",
              "</div>"
            ],
            "text/plain": [
              "   Postcode  ...                                      Neighbourhood\n",
              "0       M3A  ...                                          Parkwoods\n",
              "1       M4A  ...                                   Victoria Village\n",
              "2       M5A  ...                                       Harbourfront\n",
              "3       M6A  ...                   Lawrence Manor, Lawrence Heights\n",
              "4       M7A  ...                                       Queen's Park\n",
              "5       M9A  ...                                       Queen's Park\n",
              "6       M1B  ...                                     Malvern, Rouge\n",
              "7       M3B  ...                                    Don Mills North\n",
              "8       M4B  ...                    Parkview Hill, Woodbine Gardens\n",
              "9       M5B  ...                           Garden District, Ryerson\n",
              "10      M6B  ...                                          Glencairn\n",
              "11      M9B  ...  West Deane Park, Princess Gardens, Martin Grov...\n",
              "12      M1C  ...             Port Union, Rouge Hill, Highland Creek\n",
              "13      M3C  ...                   Don Mills South, Flemingdon Park\n",
              "14      M4C  ...                                   Woodbine Heights\n",
              "15      M5C  ...                                     St. James Town\n",
              "16      M6C  ...                                 Humewood-Cedarvale\n",
              "17      M9C  ...  Old Burnhamthorpe, Markland Wood, Eringate, Bl...\n",
              "18      M1E  ...                  West Hill, Morningside, Guildwood\n",
              "19      M4E  ...                                        The Beaches\n",
              "\n",
              "[20 rows x 3 columns]"
            ]
          },
          "metadata": {
            "tags": []
          },
          "execution_count": 10
        }
      ]
    },
    {
      "cell_type": "markdown",
      "metadata": {
        "id": "_-YxZK3-GwmO",
        "colab_type": "text"
      },
      "source": [
        "<br/>\n",
        "\n",
        "## Print Number of Rows using the __.shape__ method based on directions in __STEP 3__.\n",
        "\n",
        "<br/>"
      ]
    },
    {
      "cell_type": "code",
      "metadata": {
        "id": "J9SbDyvN9ZAs",
        "colab_type": "code",
        "colab": {
          "base_uri": "https://localhost:8080/",
          "height": 34
        },
        "outputId": "adb04460-f2b0-464b-af81-fe924098edb4"
      },
      "source": [
        "df_postal_codes.shape"
      ],
      "execution_count": 12,
      "outputs": [
        {
          "output_type": "execute_result",
          "data": {
            "text/plain": [
              "(103, 3)"
            ]
          },
          "metadata": {
            "tags": []
          },
          "execution_count": 12
        }
      ]
    }
  ]
}